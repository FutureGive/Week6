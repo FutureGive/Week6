{
 "cells": [
  {
   "cell_type": "markdown",
   "id": "576097ef-dcaa-44ab-84f8-cf1f5a573119",
   "metadata": {},
   "source": [
    "# Data Science Tools"
   ]
  },
  {
   "cell_type": "markdown",
   "id": "e0c3065b-0ae7-414b-a8c5-17238248864a",
   "metadata": {},
   "source": [
    "In this notebook, Data Science Tools and Ecosystem are summarized."
   ]
  },
  {
   "cell_type": "markdown",
   "id": "77d9b832-445d-4f31-a659-9fe6edbbe14d",
   "metadata": {},
   "source": [
    "Some of the popular languages that Data Scientists use are:\n",
    "\n",
    "1. Python\n",
    "2. R\n",
    "3. SQL"
   ]
  },
  {
   "cell_type": "markdown",
   "id": "9b6e3eb1-94e4-4411-8beb-9c6fddc0ce32",
   "metadata": {},
   "source": [
    "Some of the commonly used libraries used by Data Scientists include:\n",
    "\n",
    "1. Pandas\n",
    "2. NumPy\n",
    "3. TensorFlow"
   ]
  },
  {
   "cell_type": "markdown",
   "id": "03ce3aa8-79b9-485f-a4c5-ddeae0776977",
   "metadata": {},
   "source": [
    "|Data Science Tools|\n",
    "|---------|\n",
    "|Jupyter Notebooks|\n",
    "|GitHub|\n",
    "|IBM Model Asset eXchange \"MAX\"|"
   ]
  },
  {
   "cell_type": "markdown",
   "id": "0f8170f5-18c2-4255-ab16-46498dbfbdfa",
   "metadata": {},
   "source": [
    "### Below are a few examples of evaluating arithmetic expressions in Python."
   ]
  },
  {
   "cell_type": "code",
   "execution_count": 3,
   "id": "c7372144-325a-4f18-889c-6ad4701aae69",
   "metadata": {
    "tags": []
   },
   "outputs": [
    {
     "data": {
      "text/plain": [
       "17"
      ]
     },
     "execution_count": 3,
     "metadata": {},
     "output_type": "execute_result"
    }
   ],
   "source": [
    "# This is a simple arithmetic expression to multiply, then add integers.\n",
    "(3 * 4) + 5"
   ]
  },
  {
   "cell_type": "code",
   "execution_count": 4,
   "id": "8bf3a631-dd55-4a10-801f-2575085bfac6",
   "metadata": {
    "tags": []
   },
   "outputs": [
    {
     "name": "stdout",
     "output_type": "stream",
     "text": [
      "3.3333333333333335\n"
     ]
    }
   ],
   "source": [
    "# This will convert 200 minutes to hours by dividing by 60.\n",
    "minutes = 200\n",
    "hours = minutes / 60\n",
    "print(hours)"
   ]
  },
  {
   "cell_type": "markdown",
   "id": "f12974d2-c61b-475d-ac86-9343349fbe49",
   "metadata": {},
   "source": [
    "**Objectives**\n",
    "\n",
    "* Popular Data Science Languages\n",
    "* Popular Open Source Tools and Free Software\n",
    "* Learn basic programming in Python\n",
    "* Learn basic programming in R\n",
    "* Learn how to use GitHub\n"
   ]
  },
  {
   "cell_type": "markdown",
   "id": "5a6e6816-9cc5-463e-a2f2-2b2fb166dbe7",
   "metadata": {},
   "source": [
    "## Author\n",
    "Cary"
   ]
  },
  {
   "cell_type": "code",
   "execution_count": null,
   "id": "45ef6743-2258-481e-b933-51a8303af88c",
   "metadata": {},
   "outputs": [],
   "source": []
  }
 ],
 "metadata": {
  "kernelspec": {
   "display_name": "Python",
   "language": "python",
   "name": "conda-env-python-py"
  },
  "language_info": {
   "codemirror_mode": {
    "name": "ipython",
    "version": 3
   },
   "file_extension": ".py",
   "mimetype": "text/x-python",
   "name": "python",
   "nbconvert_exporter": "python",
   "pygments_lexer": "ipython3",
   "version": "3.7.12"
  }
 },
 "nbformat": 4,
 "nbformat_minor": 5
}
